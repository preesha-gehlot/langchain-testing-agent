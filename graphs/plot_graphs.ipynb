{
 "cells": [
  {
   "cell_type": "code",
   "execution_count": 1,
   "id": "f178e7be",
   "metadata": {},
   "outputs": [
    {
     "name": "stdout",
     "output_type": "stream",
     "text": [
      "---\n",
      "config:\n",
      "  flowchart:\n",
      "    curve: linear\n",
      "---\n",
      "graph TD;\n",
      "\t__start__([<p>__start__</p>]):::first\n",
      "\tllm_call(llm_call)\n",
      "\ttool_node(tool_node)\n",
      "\t__end__([<p>__end__</p>]):::last\n",
      "\t__start__ --> llm_call;\n",
      "\tllm_call --> tool_node;\n",
      "\ttool_node -.-> __end__;\n",
      "\ttool_node -.-> llm_call;\n",
      "\tclassDef default fill:#f2f0ff,line-height:1.2\n",
      "\tclassDef first fill-opacity:0\n",
      "\tclassDef last fill:#bfb6fc\n",
      "\n",
      "\n",
      "👉 Copy above and paste into: https://mermaid.live/\n"
     ]
    }
   ],
   "source": [
    "# from data_agent import data_search_agent\n",
    "from data_agent import data_search_agent\n",
    "\n",
    "mermaid_syntax = data_search_agent.get_graph(xray=True).draw_mermaid()\n",
    "print(mermaid_syntax)\n",
    "print(\"\\n👉 Copy above and paste into: https://mermaid.live/\")"
   ]
  },
  {
   "cell_type": "code",
   "execution_count": 2,
   "id": "457bcd91",
   "metadata": {},
   "outputs": [
    {
     "name": "stdout",
     "output_type": "stream",
     "text": [
      "---\n",
      "config:\n",
      "  flowchart:\n",
      "    curve: linear\n",
      "---\n",
      "graph TD;\n",
      "\t__start__([<p>__start__</p>]):::first\n",
      "\tget_requirements(get_requirements)\n",
      "\tlist_tables(list_tables)\n",
      "\t__end__([<p>__end__</p>]):::last\n",
      "\t__start__ --> get_requirements;\n",
      "\tget_requirements --> list_tables;\n",
      "\tlist_tables --> run_lookups___start__;\n",
      "\trun_lookups___end__ --> __end__;\n",
      "\tsubgraph run_lookups\n",
      "\trun_lookups___start__(<p>__start__</p>)\n",
      "\trun_lookups_llm_call(llm_call)\n",
      "\trun_lookups_tool_node(tool_node)\n",
      "\trun_lookups___end__(<p>__end__</p>)\n",
      "\trun_lookups___start__ --> run_lookups_llm_call;\n",
      "\trun_lookups_llm_call --> run_lookups_tool_node;\n",
      "\trun_lookups_tool_node -.-> run_lookups___end__;\n",
      "\trun_lookups_tool_node -.-> run_lookups_llm_call;\n",
      "\tend\n",
      "\tclassDef default fill:#f2f0ff,line-height:1.2\n",
      "\tclassDef first fill-opacity:0\n",
      "\tclassDef last fill:#bfb6fc\n",
      "\n",
      "\n",
      "👉 Copy above and paste into: https://mermaid.live/\n"
     ]
    }
   ],
   "source": [
    "# from data_agent import data_search_agent\n",
    "from test_data_agent import test_data_agent\n",
    "\n",
    "mermaid_syntax = test_data_agent.get_graph(xray=True).draw_mermaid()\n",
    "print(mermaid_syntax)\n",
    "print(\"\\n👉 Copy above and paste into: https://mermaid.live/\")"
   ]
  },
  {
   "cell_type": "code",
   "execution_count": 3,
   "id": "73201015",
   "metadata": {},
   "outputs": [
    {
     "name": "stdout",
     "output_type": "stream",
     "text": [
      "---\n",
      "config:\n",
      "  flowchart:\n",
      "    curve: linear\n",
      "---\n",
      "graph TD;\n",
      "\t__start__([<p>__start__</p>]):::first\n",
      "\tvalidate_openapi_spec(validate_openapi_spec)\n",
      "\tgenerate_new_postman_tests_with_data(generate_new_postman_tests_with_data)\n",
      "\tgenerate_new_postman_collection(generate_new_postman_collection)\n",
      "\tenhance_postman_collection(enhance_postman_collection)\n",
      "\tupload_to_gcp_bucket(upload_to_gcp_bucket)\n",
      "\t__end__([<p>__end__</p>]):::last\n",
      "\t__start__ --> validate_openapi_spec;\n",
      "\tenhance_postman_collection -.-> __end__;\n",
      "\tenhance_postman_collection -.-> upload_to_gcp_bucket;\n",
      "\tgenerate_new_postman_collection -.-> __end__;\n",
      "\tgenerate_new_postman_collection -.-> upload_to_gcp_bucket;\n",
      "\tgenerate_new_postman_tests_with_data -.-> __end__;\n",
      "\tgenerate_new_postman_tests_with_data -.-> upload_to_gcp_bucket;\n",
      "\tvalidate_openapi_spec -.-> __end__;\n",
      "\tvalidate_openapi_spec -.-> enhance_postman_collection;\n",
      "\tvalidate_openapi_spec -.-> generate_new_postman_collection;\n",
      "\tvalidate_openapi_spec -.-> generate_new_postman_tests_with_data;\n",
      "\tupload_to_gcp_bucket --> __end__;\n",
      "\tclassDef default fill:#f2f0ff,line-height:1.2\n",
      "\tclassDef first fill-opacity:0\n",
      "\tclassDef last fill:#bfb6fc\n",
      "\n",
      "\n",
      "👉 Copy above and paste into: https://mermaid.live/\n"
     ]
    }
   ],
   "source": [
    "from postman_agent import postman_agent\n",
    "mermaid_syntax = postman_agent.get_graph(xray=True).draw_mermaid()\n",
    "print(mermaid_syntax)\n",
    "print(\"\\n👉 Copy above and paste into: https://mermaid.live/\")"
   ]
  },
  {
   "cell_type": "code",
   "execution_count": 4,
   "id": "f65d5454",
   "metadata": {},
   "outputs": [
    {
     "name": "stdout",
     "output_type": "stream",
     "text": [
      "---\n",
      "config:\n",
      "  flowchart:\n",
      "    curve: linear\n",
      "---\n",
      "graph TD;\n",
      "\t__start__([<p>__start__</p>]):::first\n",
      "\tdecide_workflow(decide_workflow)\n",
      "\t__end__([<p>__end__</p>]):::last\n",
      "\t__start__ --> decide_workflow;\n",
      "\tdecide_workflow -.-> postman_agent_validate_openapi_spec;\n",
      "\tdecide_workflow -.-> test_data_agent_get_requirements;\n",
      "\ttest_data_agent_run_lookups___end__ --> postman_agent_validate_openapi_spec;\n",
      "\tpostman_agent___end__ --> __end__;\n",
      "\tsubgraph test_data_agent\n",
      "\ttest_data_agent_get_requirements(get_requirements)\n",
      "\ttest_data_agent_list_tables(list_tables)\n",
      "\ttest_data_agent_get_requirements --> test_data_agent_list_tables;\n",
      "\ttest_data_agent_list_tables --> test_data_agent_run_lookups___start__;\n",
      "\tsubgraph run_lookups\n",
      "\ttest_data_agent_run_lookups___start__(<p>__start__</p>)\n",
      "\ttest_data_agent_run_lookups_llm_call(llm_call)\n",
      "\ttest_data_agent_run_lookups_tool_node(tool_node)\n",
      "\ttest_data_agent_run_lookups___end__(<p>__end__</p>)\n",
      "\ttest_data_agent_run_lookups___start__ --> test_data_agent_run_lookups_llm_call;\n",
      "\ttest_data_agent_run_lookups_llm_call --> test_data_agent_run_lookups_tool_node;\n",
      "\ttest_data_agent_run_lookups_tool_node -.-> test_data_agent_run_lookups___end__;\n",
      "\ttest_data_agent_run_lookups_tool_node -.-> test_data_agent_run_lookups_llm_call;\n",
      "\tend\n",
      "\tend\n",
      "\tsubgraph postman_agent\n",
      "\tpostman_agent_validate_openapi_spec(validate_openapi_spec)\n",
      "\tpostman_agent_generate_new_postman_tests_with_data(generate_new_postman_tests_with_data)\n",
      "\tpostman_agent_generate_new_postman_collection(generate_new_postman_collection)\n",
      "\tpostman_agent_enhance_postman_collection(enhance_postman_collection)\n",
      "\tpostman_agent_upload_to_gcp_bucket(upload_to_gcp_bucket)\n",
      "\tpostman_agent___end__(<p>__end__</p>)\n",
      "\tpostman_agent_enhance_postman_collection -.-> postman_agent___end__;\n",
      "\tpostman_agent_enhance_postman_collection -.-> postman_agent_upload_to_gcp_bucket;\n",
      "\tpostman_agent_generate_new_postman_collection -.-> postman_agent___end__;\n",
      "\tpostman_agent_generate_new_postman_collection -.-> postman_agent_upload_to_gcp_bucket;\n",
      "\tpostman_agent_generate_new_postman_tests_with_data -.-> postman_agent___end__;\n",
      "\tpostman_agent_generate_new_postman_tests_with_data -.-> postman_agent_upload_to_gcp_bucket;\n",
      "\tpostman_agent_validate_openapi_spec -.-> postman_agent___end__;\n",
      "\tpostman_agent_validate_openapi_spec -.-> postman_agent_enhance_postman_collection;\n",
      "\tpostman_agent_validate_openapi_spec -.-> postman_agent_generate_new_postman_collection;\n",
      "\tpostman_agent_validate_openapi_spec -.-> postman_agent_generate_new_postman_tests_with_data;\n",
      "\tpostman_agent_upload_to_gcp_bucket --> postman_agent___end__;\n",
      "\tend\n",
      "\tclassDef default fill:#f2f0ff,line-height:1.2\n",
      "\tclassDef first fill-opacity:0\n",
      "\tclassDef last fill:#bfb6fc\n",
      "\n",
      "\n",
      "👉 Copy above and paste into: https://mermaid.live/\n"
     ]
    }
   ],
   "source": [
    "from main_agent import main_agent\n",
    "mermaid_syntax = main_agent.get_graph(xray=True).draw_mermaid()\n",
    "print(mermaid_syntax)\n",
    "print(\"\\n👉 Copy above and paste into: https://mermaid.live/\")"
   ]
  }
 ],
 "metadata": {
  "kernelspec": {
   "display_name": "venv (3.13.7)",
   "language": "python",
   "name": "python3"
  },
  "language_info": {
   "codemirror_mode": {
    "name": "ipython",
    "version": 3
   },
   "file_extension": ".py",
   "mimetype": "text/x-python",
   "name": "python",
   "nbconvert_exporter": "python",
   "pygments_lexer": "ipython3",
   "version": "3.13.7"
  }
 },
 "nbformat": 4,
 "nbformat_minor": 5
}
